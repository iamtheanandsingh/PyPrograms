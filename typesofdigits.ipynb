{
 "metadata": {
  "language_info": {
   "codemirror_mode": {
    "name": "ipython",
    "version": 3
   },
   "file_extension": ".py",
   "mimetype": "text/x-python",
   "name": "python",
   "nbconvert_exporter": "python",
   "pygments_lexer": "ipython3",
   "version": "3.9.3"
  },
  "orig_nbformat": 2,
  "kernelspec": {
   "name": "python3",
   "display_name": "Python 3",
   "language": "python"
  }
 },
 "nbformat": 4,
 "nbformat_minor": 2,
 "cells": [
  {
   "source": [
    "Hexadecimal Numerals"
   ],
   "cell_type": "markdown",
   "metadata": {}
  },
  {
   "cell_type": "code",
   "execution_count": 11,
   "metadata": {},
   "outputs": [
    {
     "output_type": "execute_result",
     "data": {
      "text/plain": [
       "9"
      ]
     },
     "metadata": {},
     "execution_count": 11
    }
   ],
   "source": [
    "0x9"
   ]
  },
  {
   "cell_type": "code",
   "execution_count": 13,
   "metadata": {},
   "outputs": [
    {
     "output_type": "execute_result",
     "data": {
      "text/plain": [
       "15"
      ]
     },
     "metadata": {},
     "execution_count": 13
    }
   ],
   "source": [
    "0xF"
   ]
  },
  {
   "source": [
    "Octal Numerals"
   ],
   "cell_type": "markdown",
   "metadata": {}
  },
  {
   "cell_type": "code",
   "execution_count": 15,
   "metadata": {},
   "outputs": [
    {
     "output_type": "execute_result",
     "data": {
      "text/plain": [
       "6"
      ]
     },
     "metadata": {},
     "execution_count": 15
    }
   ],
   "source": [
    "0o6"
   ]
  },
  {
   "cell_type": "code",
   "execution_count": 17,
   "metadata": {},
   "outputs": [
    {
     "output_type": "execute_result",
     "data": {
      "text/plain": [
       "8"
      ]
     },
     "metadata": {},
     "execution_count": 17
    }
   ],
   "source": [
    "0o10"
   ]
  },
  {
   "source": [
    "Binary Numerals"
   ],
   "cell_type": "markdown",
   "metadata": {}
  },
  {
   "cell_type": "code",
   "execution_count": 18,
   "metadata": {},
   "outputs": [
    {
     "output_type": "execute_result",
     "data": {
      "text/plain": [
       "15"
      ]
     },
     "metadata": {},
     "execution_count": 18
    }
   ],
   "source": [
    "0b1111"
   ]
  },
  {
   "cell_type": "code",
   "execution_count": 2,
   "metadata": {},
   "outputs": [
    {
     "output_type": "execute_result",
     "data": {
      "text/plain": [
       "13"
      ]
     },
     "metadata": {},
     "execution_count": 2
    }
   ],
   "source": [
    "0B1101"
   ]
  },
  {
   "cell_type": "code",
   "execution_count": null,
   "metadata": {},
   "outputs": [],
   "source": [
    "def hcf(num1, num2):\n",
    "    if num1> num2:\n",
    "        min = num2\n",
    "    else:\n",
    "        min = num1\n",
    "    for i in range(1, min+1):\n",
    "        if num1%i == 0 and num2%i==0:\n",
    "            hcf = i\n",
    "\n",
    "def lcm(num1, num2):\n",
    "    for i in range(0, num1*num2 + 1):\n",
    "        if i%num1==0 and i%num2==0:\n",
    "            lcm = i\n",
    "\n",
    "x = int(input(\"Enter A : \"))\n",
    "y = int(input(\"Enter B : \"))\n",
    "\n",
    "hcf(x,y)\n",
    "lcm(x,y)\n",
    "\n",
    "print(\"HCF Of Numbers Is : \", hcf)\n",
    "print(\"LCM Of Numbers Is : \", lcm)"
   ]
  }
 ]
}